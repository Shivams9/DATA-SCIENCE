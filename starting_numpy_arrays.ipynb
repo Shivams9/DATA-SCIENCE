{
  "nbformat": 4,
  "nbformat_minor": 0,
  "metadata": {
    "colab": {
      "provenance": [],
      "collapsed_sections": [],
      "toc_visible": true,
      "include_colab_link": true
    },
    "kernelspec": {
      "name": "python3",
      "display_name": "Python 3"
    },
    "language_info": {
      "name": "python"
    }
  },
  "cells": [
    {
      "cell_type": "markdown",
      "metadata": {
        "id": "view-in-github",
        "colab_type": "text"
      },
      "source": [
        "<a href=\"https://colab.research.google.com/github/Shivams9/DATA-SCIENCE/blob/main/starting_numpy_arrays.ipynb\" target=\"_parent\"><img src=\"https://colab.research.google.com/assets/colab-badge.svg\" alt=\"Open In Colab\"/></a>"
      ]
    },
    {
      "cell_type": "markdown",
      "source": [
        "**Creating Numpy Arrays**\n",
        "\n",
        "[Numpy Array documentation](https://numpy.org/doc/stable/reference/arrays.html)\n",
        "\n",
        "\n",
        "Imports"
      ],
      "metadata": {
        "id": "7TO0sfBpnxSV"
      }
    },
    {
      "cell_type": "code",
      "execution_count": null,
      "metadata": {
        "id": "C3x3GuJhnCIV"
      },
      "outputs": [],
      "source": [
        "\n",
        "import numpy as np"
      ]
    },
    {
      "cell_type": "markdown",
      "source": [
        "Create an array using list"
      ],
      "metadata": {
        "id": "Nr2zrKIboG9R"
      }
    },
    {
      "cell_type": "code",
      "source": [
        "import numpy as np\n",
        "a = np.array([1, 2, 3, 4, 5])\n",
        "print(a)\n",
        "print(type(a))"
      ],
      "metadata": {
        "colab": {
          "base_uri": "https://localhost:8080/"
        },
        "id": "fjxShJ2JoBfF",
        "outputId": "7b0b5489-e9a0-4abf-f666-ec23511aab1a"
      },
      "execution_count": 18,
      "outputs": [
        {
          "output_type": "stream",
          "name": "stdout",
          "text": [
            "[1 2 3 4 5]\n",
            "<class 'numpy.ndarray'>\n"
          ]
        }
      ]
    },
    {
      "cell_type": "markdown",
      "source": [
        "Create an array using tuple"
      ],
      "metadata": {
        "id": "zRpqPH-NwPz4"
      }
    },
    {
      "cell_type": "code",
      "source": [
        "a = np.array((1, 2, 3, 4, 5))\n",
        "print(a)"
      ],
      "metadata": {
        "colab": {
          "base_uri": "https://localhost:8080/"
        },
        "id": "5_yey_UNo4rb",
        "outputId": "a84a85e0-d266-4b8d-dc86-ec166e25ce0b"
      },
      "execution_count": 19,
      "outputs": [
        {
          "output_type": "stream",
          "name": "stdout",
          "text": [
            "[1 2 3 4 5]\n"
          ]
        }
      ]
    },
    {
      "cell_type": "markdown",
      "source": [],
      "metadata": {
        "id": "Dm9GtZVAxhZr"
      }
    },
    {
      "cell_type": "markdown",
      "source": [
        "Create an array using set"
      ],
      "metadata": {
        "id": "ogzd5D0RxiNR"
      }
    },
    {
      "cell_type": "code",
      "source": [
        "a = np.array({1,2,3,4,5})\n",
        "print(a)\n",
        "print(type(a))"
      ],
      "metadata": {
        "colab": {
          "base_uri": "https://localhost:8080/"
        },
        "id": "i2u6IOvppAnR",
        "outputId": "8e8ca880-510f-434e-ee49-866fa4ada570"
      },
      "execution_count": 23,
      "outputs": [
        {
          "output_type": "stream",
          "name": "stdout",
          "text": [
            "{1, 2, 3, 4, 5}\n",
            "<class 'numpy.ndarray'>\n"
          ]
        }
      ]
    },
    {
      "cell_type": "markdown",
      "source": [],
      "metadata": {
        "id": "3wT-hnyqyDZ7"
      }
    },
    {
      "cell_type": "markdown",
      "source": [
        "Create an array using dictionary"
      ],
      "metadata": {
        "id": "cxLMfrT_yEL3"
      }
    },
    {
      "cell_type": "code",
      "source": [
        "a = np.array({\"one\":1,\"two\":2,\"three\":3,\"four\":4,\"five\":5})\n",
        "print(a)\n",
        "print(type(a))\n"
      ],
      "metadata": {
        "colab": {
          "base_uri": "https://localhost:8080/"
        },
        "id": "oSMPScd5ppTO",
        "outputId": "f9edfa5d-52e2-4f3f-90b9-5b79c273b537"
      },
      "execution_count": 22,
      "outputs": [
        {
          "output_type": "stream",
          "name": "stdout",
          "text": [
            "{'one': 1, 'two': 2, 'three': 3, 'four': 4, 'five': 5}\n",
            "<class 'numpy.ndarray'>\n"
          ]
        }
      ]
    },
    {
      "cell_type": "markdown",
      "source": [],
      "metadata": {
        "id": "GKRHWDZhyQ66"
      }
    },
    {
      "cell_type": "markdown",
      "source": [
        "Create an array using range"
      ],
      "metadata": {
        "id": "D4jRSuaZyR1I"
      }
    },
    {
      "cell_type": "code",
      "source": [],
      "metadata": {
        "id": "agbl5DDQqNZs"
      },
      "execution_count": null,
      "outputs": []
    },
    {
      "cell_type": "code",
      "source": [
        "a = np.array(range(1,6))\n",
        "print(a)\n"
      ],
      "metadata": {
        "colab": {
          "base_uri": "https://localhost:8080/"
        },
        "outputId": "d23291c8-0447-4dab-8703-ecdea0f69b4e",
        "id": "viDxbUyCqSFi"
      },
      "execution_count": null,
      "outputs": [
        {
          "output_type": "stream",
          "name": "stdout",
          "text": [
            "[1 2 3 4 5]\n"
          ]
        }
      ]
    },
    {
      "cell_type": "markdown",
      "source": [],
      "metadata": {
        "id": "K0TYYYPFybdf"
      }
    },
    {
      "cell_type": "markdown",
      "source": [
        "Create an array using ones"
      ],
      "metadata": {
        "id": "2xESBsHoyb-7"
      }
    },
    {
      "cell_type": "code",
      "source": [
        "a = np.ones(5)\n",
        "print(a)\n"
      ],
      "metadata": {
        "colab": {
          "base_uri": "https://localhost:8080/"
        },
        "outputId": "3ef4c849-c7fa-43c1-a750-412e22717cd8",
        "id": "O8lHbvl2q4G4"
      },
      "execution_count": null,
      "outputs": [
        {
          "output_type": "stream",
          "name": "stdout",
          "text": [
            "[1. 1. 1. 1. 1.]\n"
          ]
        }
      ]
    },
    {
      "cell_type": "markdown",
      "source": [],
      "metadata": {
        "id": "p9rc0wP6yi5o"
      }
    },
    {
      "cell_type": "markdown",
      "source": [
        "Create an array using zeros"
      ],
      "metadata": {
        "id": "Imeinyl2yjvj"
      }
    },
    {
      "cell_type": "code",
      "source": [
        "a = np.zeros(5)\n",
        "print(a)\n"
      ],
      "metadata": {
        "colab": {
          "base_uri": "https://localhost:8080/"
        },
        "outputId": "2efaa3b4-74ca-4376-952c-698958dda0a7",
        "id": "wqfvC40rrCu2"
      },
      "execution_count": null,
      "outputs": [
        {
          "output_type": "stream",
          "name": "stdout",
          "text": [
            "[0. 0. 0. 0. 0.]\n"
          ]
        }
      ]
    },
    {
      "cell_type": "markdown",
      "source": [],
      "metadata": {
        "id": "hXARzm2GysnT"
      }
    },
    {
      "cell_type": "markdown",
      "source": [
        "Create an array using arange"
      ],
      "metadata": {
        "id": "yw7HpqDFytRQ"
      }
    },
    {
      "cell_type": "code",
      "source": [
        "for i in range(0,6,1):\n",
        "  print(i, end=' ')\n",
        "\n",
        "for i in range(1,6):\n",
        "  print(i, end=',')\n",
        "\n",
        "a = np.array({1,3,5,7})\n",
        "print(a)\n",
        "print(type(a))"
      ],
      "metadata": {
        "id": "LYVuFnlmgGS2",
        "outputId": "b307ea2f-17e7-4fb7-a5a8-dd4079293c59",
        "colab": {
          "base_uri": "https://localhost:8080/",
          "height": 252
        }
      },
      "execution_count": 17,
      "outputs": [
        {
          "output_type": "stream",
          "name": "stdout",
          "text": [
            "0 1 2 3 4 5 1,2,3,4,5,"
          ]
        },
        {
          "output_type": "error",
          "ename": "NameError",
          "evalue": "ignored",
          "traceback": [
            "\u001b[0;31m---------------------------------------------------------------------------\u001b[0m",
            "\u001b[0;31mNameError\u001b[0m                                 Traceback (most recent call last)",
            "\u001b[0;32m<ipython-input-17-dac6ceec4398>\u001b[0m in \u001b[0;36m<module>\u001b[0;34m\u001b[0m\n\u001b[1;32m      5\u001b[0m   \u001b[0mprint\u001b[0m\u001b[0;34m(\u001b[0m\u001b[0mi\u001b[0m\u001b[0;34m,\u001b[0m \u001b[0mend\u001b[0m\u001b[0;34m=\u001b[0m\u001b[0;34m','\u001b[0m\u001b[0;34m)\u001b[0m\u001b[0;34m\u001b[0m\u001b[0;34m\u001b[0m\u001b[0m\n\u001b[1;32m      6\u001b[0m \u001b[0;34m\u001b[0m\u001b[0m\n\u001b[0;32m----> 7\u001b[0;31m \u001b[0ma\u001b[0m \u001b[0;34m=\u001b[0m \u001b[0mnp\u001b[0m\u001b[0;34m.\u001b[0m\u001b[0marray\u001b[0m\u001b[0;34m(\u001b[0m\u001b[0;34m{\u001b[0m\u001b[0;36m1\u001b[0m\u001b[0;34m,\u001b[0m\u001b[0;36m3\u001b[0m\u001b[0;34m,\u001b[0m\u001b[0;36m5\u001b[0m\u001b[0;34m,\u001b[0m\u001b[0;36m7\u001b[0m\u001b[0;34m}\u001b[0m\u001b[0;34m)\u001b[0m\u001b[0;34m\u001b[0m\u001b[0;34m\u001b[0m\u001b[0m\n\u001b[0m\u001b[1;32m      8\u001b[0m \u001b[0mprint\u001b[0m\u001b[0;34m(\u001b[0m\u001b[0ma\u001b[0m\u001b[0;34m)\u001b[0m\u001b[0;34m\u001b[0m\u001b[0;34m\u001b[0m\u001b[0m\n\u001b[1;32m      9\u001b[0m \u001b[0mprint\u001b[0m\u001b[0;34m(\u001b[0m\u001b[0mtype\u001b[0m\u001b[0;34m(\u001b[0m\u001b[0ma\u001b[0m\u001b[0;34m)\u001b[0m\u001b[0;34m)\u001b[0m\u001b[0;34m\u001b[0m\u001b[0;34m\u001b[0m\u001b[0m\n",
            "\u001b[0;31mNameError\u001b[0m: name 'np' is not defined"
          ]
        }
      ]
    },
    {
      "cell_type": "code",
      "source": [
        "a = np.arange(5)\n",
        "print(a)\n",
        "a = np.arange(1,6)\n",
        "print(a)\n",
        "a = np.arange(1,6,2)\n",
        "print(a)\n",
        "a = np.arange(5,0,-1)\n",
        "print(a)\n"
      ],
      "metadata": {
        "colab": {
          "base_uri": "https://localhost:8080/"
        },
        "outputId": "3080e4ff-e7c6-4822-9f36-936b9893fa41",
        "id": "Imqlpl1qrc6F"
      },
      "execution_count": null,
      "outputs": [
        {
          "output_type": "stream",
          "name": "stdout",
          "text": [
            "[0 1 2 3 4]\n",
            "[1 2 3 4 5]\n",
            "[1 3 5]\n",
            "[5 4 3 2 1]\n"
          ]
        }
      ]
    },
    {
      "cell_type": "markdown",
      "source": [
        "Create an array using random"
      ],
      "metadata": {
        "id": "xQALh3afzbdc"
      }
    },
    {
      "cell_type": "code",
      "source": [
        "a = np.random.rand(1,10)\n",
        "print(a)\n",
        "\n",
        "a =np.random.power(5, 5)\n",
        "print(a)\n",
        "\n",
        "a =np.random.randint(5,size= 5)\n",
        "print(a)\n",
        "\n",
        "rng = np.random.default_rng()\n",
        "a =rng.integers(5,size=5)\n",
        "print(a)\n"
      ],
      "metadata": {
        "colab": {
          "base_uri": "https://localhost:8080/"
        },
        "id": "uj5eeXRHsXom",
        "outputId": "e7046872-85f1-4ab6-8912-fe2d610bd0df"
      },
      "execution_count": null,
      "outputs": [
        {
          "output_type": "stream",
          "name": "stdout",
          "text": [
            "[[0.65248831 0.82752473 0.55389144 0.12844286 0.4397348  0.20163512\n",
            "  0.75449147 0.18745912 0.50693007 0.15693976]]\n",
            "[0.70958735 0.95400815 0.86353282 0.92170734 0.80248319]\n",
            "[1 2 1 3 3]\n",
            "[1 4 0 3 4]\n"
          ]
        }
      ]
    },
    {
      "cell_type": "code",
      "source": [
        "\n"
      ],
      "metadata": {
        "id": "vG94-iVdtZx9"
      },
      "execution_count": null,
      "outputs": []
    },
    {
      "cell_type": "code",
      "source": [],
      "metadata": {
        "id": "YYwOA_COtO0l"
      },
      "execution_count": null,
      "outputs": []
    }
  ]
}