{
  "nbformat": 4,
  "nbformat_minor": 0,
  "metadata": {
    "colab": {
      "provenance": [],
      "include_colab_link": true
    },
    "kernelspec": {
      "name": "python3",
      "display_name": "Python 3"
    },
    "language_info": {
      "name": "python"
    }
  },
  "cells": [
    {
      "cell_type": "markdown",
      "metadata": {
        "id": "view-in-github",
        "colab_type": "text"
      },
      "source": [
        "<a href=\"https://colab.research.google.com/github/Shivams9/DATA-SCIENCE/blob/main/Polyfit_Demo.ipynb\" target=\"_parent\"><img src=\"https://colab.research.google.com/assets/colab-badge.svg\" alt=\"Open In Colab\"/></a>"
      ]
    },
    {
      "cell_type": "markdown",
      "source": [
        "**Polyfit Demo**\n",
        "\n",
        "[Documentation](https://numpy.org/doc/stable/reference/generated/numpy.polyfit.html)"
      ],
      "metadata": {
        "id": "RdOrBaoIMa1s"
      }
    },
    {
      "cell_type": "code",
      "source": [
        "import numpy\n",
        "import matplotlib.pyplot as plt\n",
        "from sklearn.metrics import r2_score\n"
      ],
      "metadata": {
        "id": "r3443V2pH05Y"
      },
      "execution_count": 9,
      "outputs": []
    },
    {
      "cell_type": "code",
      "execution_count": 17,
      "metadata": {
        "colab": {
          "base_uri": "https://localhost:8080/",
          "height": 366
        },
        "id": "oh7xsa6tC4f4",
        "outputId": "1a0c3fa9-a4e6-42c8-b988-af6c88c86a3d"
      },
      "outputs": [
        {
          "output_type": "stream",
          "name": "stdout",
          "text": [
            "Fit [-0.30909091 24.2       ]\n",
            "model= [23.89090909 23.58181818 23.27272727 22.96363636 22.65454545 22.34545455\n",
            " 22.03636364 21.72727273 21.41818182 21.10909091]\n",
            "Correlation 63.0545454545455\n"
          ]
        },
        {
          "output_type": "display_data",
          "data": {
            "text/plain": [
              "<Figure size 432x288 with 1 Axes>"
            ],
            "image/png": "[encoded data removed]"
          },
          "metadata": {
            "needs_background": "light"
          }
        },
        {
          "output_type": "stream",
          "name": "stdout",
          "text": [
            "Predicted 22.963636363636365\n"
          ]
        }
      ],
      "source": [
        "\n",
        "x = [1,2,3,4,5,6,7,8,9,10]\n",
        "y = [24,24,24,23,22,21,22,21,22,22]\n",
        "#print(numpy.linspace(1,101,11))\n",
        "# model = numpy.poly1d(numpy.polyfit(x, y, ))\n",
        "# print(\"model=\",model(x))\n",
        "pf = numpy.polyfit(x, y, 1)\n",
        "print(\"Fit\",pf)\n",
        "model = numpy.poly1d(pf)\n",
        "print(\"model=\", model(x))\n",
        "\n",
        "plotx =[1,2,3,4,5,6]# numpy.linspace(1, 22, 100)\n",
        "correlation=r2_score(y, model(x))\n",
        "print(\"Correlation\",correlation *100)\n",
        "plt.scatter(x,y,color=\"black\")\n",
        "plt.plot(x,y,\"b-\",label=\"Original\")\n",
        "plt.plot(plotx, model(plotx),\"r-\",label=\"Predicted\")\n",
        "plt.ylabel('Tempeature')\n",
        "plt.xlabel('Date')\n",
        "plt.legend()\n",
        "plt.show()\n",
        "xvalue=4\n",
        "predict=model(xvalue)\n",
        "print(\"Predicted\",predict)"
      ]
    },
    {
      "cell_type": "code",
      "source": [],
      "metadata": {
        "id": "-Fi2O5soH03C"
      },
      "execution_count": null,
      "outputs": []
    },
    {
      "cell_type": "code",
      "source": [],
      "metadata": {
        "id": "aJEpjwfSHhQb"
      },
      "execution_count": null,
      "outputs": []
    }
  ]
}